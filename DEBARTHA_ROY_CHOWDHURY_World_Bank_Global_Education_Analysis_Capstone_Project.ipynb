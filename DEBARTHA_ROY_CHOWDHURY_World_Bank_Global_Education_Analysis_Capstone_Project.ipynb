{
  "nbformat": 4,
  "nbformat_minor": 0,
  "metadata": {
    "kernelspec": {
      "display_name": "Python 3",
      "language": "python",
      "name": "python3"
    },
    "language_info": {
      "codemirror_mode": {
        "name": "ipython",
        "version": 3
      },
      "file_extension": ".py",
      "mimetype": "text/x-python",
      "name": "python",
      "nbconvert_exporter": "python",
      "pygments_lexer": "ipython3",
      "version": "3.6.6"
    },
    "colab": {
      "provenance": [],
      "collapsed_sections": [],
      "include_colab_link": true
    }
  },
  "cells": [
    {
      "cell_type": "markdown",
      "metadata": {
        "id": "view-in-github",
        "colab_type": "text"
      },
      "source": [
        "<a href=\"https://colab.research.google.com/github/deba-roy/World_Bank_Global_Education_Analysis/blob/main/DEBARTHA_ROY_CHOWDHURY_World_Bank_Global_Education_Analysis_Capstone_Project.ipynb\" target=\"_parent\"><img src=\"https://colab.research.google.com/assets/colab-badge.svg\" alt=\"Open In Colab\"/></a>"
      ]
    },
    {
      "cell_type": "markdown",
      "metadata": {
        "id": "Y06xIdG26kRF"
      },
      "source": [
        "## <b> The World Bank EdStats All Indicator Query holds over 4,000 internationally comparable indicators that describe education access, progression, completion, literacy, teachers, population, and expenditures.The indicators cover the education cycle from pre-primary to vocational and tertiary education and also holds learning outcome data from international and regional learning assessments (e.g. PISA, TIMSS, PIRLS), equity data from household surveys, and projection/attainment data. </b>\n",
        "\n",
        "## <b> Explore and analyze the data to identify variation of indicators across the globe, which countries are more alike and different. Feel free to add more extensive analyses and details.</b>"
      ]
    },
    {
      "cell_type": "markdown",
      "source": [
        "# World Bank Global Education Analysis\n",
        "  - about the EDA\n",
        "  - about the dataset (source, contents, usefulness)"
      ],
      "metadata": {
        "id": "ExIEhdIJwSQg"
      }
    },
    {
      "cell_type": "code",
      "source": [],
      "metadata": {
        "id": "-lkl2LAEwR1_"
      },
      "execution_count": null,
      "outputs": []
    },
    {
      "cell_type": "markdown",
      "source": [
        "## 1. Downloading and Importing the necessary files and tools"
      ],
      "metadata": {
        "id": "MvqIC6Q8wqH5"
      }
    },
    {
      "cell_type": "code",
      "source": [],
      "metadata": {
        "id": "xTzmq5aMwkoL"
      },
      "execution_count": null,
      "outputs": []
    },
    {
      "cell_type": "code",
      "source": [],
      "metadata": {
        "id": "jguEpXBmwkgq"
      },
      "execution_count": null,
      "outputs": []
    },
    {
      "cell_type": "code",
      "source": [],
      "metadata": {
        "id": "-tNNhnO_wyeu"
      },
      "execution_count": null,
      "outputs": []
    },
    {
      "cell_type": "code",
      "source": [],
      "metadata": {
        "id": "St5F-R0nwyZh"
      },
      "execution_count": null,
      "outputs": []
    },
    {
      "cell_type": "markdown",
      "source": [
        "## 2. Data Preparation and cleaning\n",
        "  - load files using pandas\n",
        "  - look for information about data and columns\n",
        "  - fix any missing or incorrect values"
      ],
      "metadata": {
        "id": "4Q5eQBKzwzlQ"
      }
    },
    {
      "cell_type": "code",
      "source": [],
      "metadata": {
        "id": "pRR5hyGrwyR9"
      },
      "execution_count": null,
      "outputs": []
    },
    {
      "cell_type": "code",
      "source": [],
      "metadata": {
        "id": "Yje7aeBHwyJ_"
      },
      "execution_count": null,
      "outputs": []
    },
    {
      "cell_type": "code",
      "source": [],
      "metadata": {
        "id": "RIzwcjAlwxnJ"
      },
      "execution_count": null,
      "outputs": []
    },
    {
      "cell_type": "markdown",
      "source": [
        "## 3. Exploratory Analysis and Visualization\n",
        "### Important Columns to analyze:\n",
        "  1. \n",
        "  2.\n",
        "  3.\n",
        "  "
      ],
      "metadata": {
        "id": "Fh3sGWg9w57_"
      }
    },
    {
      "cell_type": "code",
      "source": [],
      "metadata": {
        "id": "oKl2ZAo_wkXT"
      },
      "execution_count": null,
      "outputs": []
    },
    {
      "cell_type": "code",
      "source": [],
      "metadata": {
        "id": "VeB2NPe9wkPz"
      },
      "execution_count": null,
      "outputs": []
    },
    {
      "cell_type": "code",
      "source": [],
      "metadata": {
        "id": "hIsG4UduxC-R"
      },
      "execution_count": null,
      "outputs": []
    },
    {
      "cell_type": "code",
      "source": [],
      "metadata": {
        "id": "c4y17JQOxDHP"
      },
      "execution_count": null,
      "outputs": []
    },
    {
      "cell_type": "code",
      "source": [],
      "metadata": {
        "id": "35cmHkROxDEQ"
      },
      "execution_count": null,
      "outputs": []
    },
    {
      "cell_type": "markdown",
      "source": [
        "## 4. F.A.Qs or doubt questions\n",
        "  - \n",
        "  -\n",
        "  -"
      ],
      "metadata": {
        "id": "lJKjPtzJxDjX"
      }
    },
    {
      "cell_type": "code",
      "source": [],
      "metadata": {
        "id": "VupuD-AUxYXf"
      },
      "execution_count": null,
      "outputs": []
    },
    {
      "cell_type": "code",
      "source": [],
      "metadata": {
        "id": "xIKYQyRUxYp9"
      },
      "execution_count": null,
      "outputs": []
    },
    {
      "cell_type": "code",
      "source": [],
      "metadata": {
        "id": "CP4KImY3xZpB"
      },
      "execution_count": null,
      "outputs": []
    },
    {
      "cell_type": "code",
      "source": [],
      "metadata": {
        "id": "RvmKGtIExZmB"
      },
      "execution_count": null,
      "outputs": []
    },
    {
      "cell_type": "code",
      "source": [],
      "metadata": {
        "id": "d7FXzueLxZjW"
      },
      "execution_count": null,
      "outputs": []
    },
    {
      "cell_type": "code",
      "source": [],
      "metadata": {
        "id": "7m4_pRvBxZgd"
      },
      "execution_count": null,
      "outputs": []
    },
    {
      "cell_type": "markdown",
      "source": [
        "## 5. Summary and Conclusion\n",
        "\n",
        "### Insights from the visualization plots:\n",
        "  - \n",
        "  -\n",
        "  -"
      ],
      "metadata": {
        "id": "6AhTdT8fxaMT"
      }
    },
    {
      "cell_type": "code",
      "source": [],
      "metadata": {
        "id": "1_Lxm_A5xYgI"
      },
      "execution_count": null,
      "outputs": []
    },
    {
      "cell_type": "code",
      "source": [
        "# After asking and answering all the FAQs and noting down the insights into bullet points\n",
        "# Finish up by writing in detailed structure."
      ],
      "metadata": {
        "id": "HiVvO9IIwkEf"
      },
      "execution_count": null,
      "outputs": []
    },
    {
      "cell_type": "code",
      "metadata": {
        "id": "dByMsuzT8Tnw"
      },
      "source": [],
      "execution_count": null,
      "outputs": []
    }
  ]
}